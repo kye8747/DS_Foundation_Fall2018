{
 "cells": [
  {
   "cell_type": "markdown",
   "metadata": {},
   "source": [
    "Before you turn this assignment in, make sure everything runs as expected. \n",
    "\n",
    "You can either **restart the kernel** (in the menu bar, select Kernel $\\rightarrow$ Restart and Clear Output) and then **run all cells** (in the menu bar, select Cell $\\rightarrow$ Run All). \n",
    "Or, you can simply **clear the output for all cells** (in the menu bar, select Cell $\\rightarrow$ All Output $\\rightarrow$ Clear) and then **run all cells** (in the menu bar, select Cell $\\rightarrow$ Run All).\n",
    "\n",
    "---"
   ]
  },
  {
   "cell_type": "markdown",
   "metadata": {},
   "source": [
    "# Assignment 1 - Intro to Python"
   ]
  },
  {
   "cell_type": "markdown",
   "metadata": {},
   "source": [
    "### Question #1: Count symbols - 3 points"
   ]
  },
  {
   "cell_type": "markdown",
   "metadata": {},
   "source": [
    "In this question, you are given a string `s` which represents a DNA string. The string `s` consists of symbols `'A', 'C', 'G',` and `'T'`. An example of a length 21 DNA string is `\"ATGCTTCAGAAAGGTCTTACG.\"` \n",
    "\n",
    "Your task is to write a code which will count the number of times each of the symbols `'A', 'C', 'G'`, and `'T'` occur in `s`. The output should be a list of 4 integers."
   ]
  },
  {
   "cell_type": "code",
   "execution_count": 2,
   "metadata": {
    "collapsed": true
   },
   "outputs": [],
   "source": [
    "# Here is the DNA string:\n",
    "\n",
    "s = 'AGCTTTTCATTCTGACTGCAACGGGCAATATGTCTCTGTGTGGATTAAAAAAAGAGTGTCTGATAGCAGC'"
   ]
  },
  {
   "cell_type": "code",
   "execution_count": 3,
   "metadata": {},
   "outputs": [
    {
     "name": "stdout",
     "output_type": "stream",
     "text": [
      "[20, 12, 17, 21]\n"
     ]
    }
   ],
   "source": [
    "# Type your code here\n",
    "i = 0\n",
    "a_count = 0\n",
    "c_count = 0\n",
    "g_count = 0\n",
    "t_count = 0\n",
    "\n",
    "while i < len(s):\n",
    "    if s[i] is \"A\":\n",
    "        a_count += 1\n",
    "    elif s[i] is \"C\":\n",
    "        c_count += 1\n",
    "    elif s[i] is \"G\":\n",
    "        g_count += 1\n",
    "    else:\n",
    "        t_count += 1\n",
    "        \n",
    "    i += 1\n",
    "\n",
    "print([a_count, c_count, g_count, t_count])"
   ]
  },
  {
   "cell_type": "code",
   "execution_count": 13,
   "metadata": {},
   "outputs": [
    {
     "name": "stdout",
     "output_type": "stream",
     "text": [
      "[20, 12, 17, 21]\n"
     ]
    }
   ],
   "source": []
  },
  {
   "cell_type": "markdown",
   "metadata": {},
   "source": [
    "### Question #2: Find a substring - 4 points"
   ]
  },
  {
   "cell_type": "markdown",
   "metadata": {},
   "source": [
    "You are given a dictionary of the US states and their capitals. The keys in the dictionary are states and the values are capital names.\n",
    "\n",
    "Write a code to return a list of all capitals that contain the name of a state in their name as a substring."
   ]
  },
  {
   "cell_type": "code",
   "execution_count": 1,
   "metadata": {},
   "outputs": [
    {
     "data": {
      "text/plain": [
       "{'Alabama': 'Montgomery',\n",
       " 'Alaska': 'Juneau',\n",
       " 'Arizona': 'Phoenix',\n",
       " 'Arkansas': 'Little Rock',\n",
       " 'California': 'Sacramento',\n",
       " 'Colorado': 'Denver',\n",
       " 'Connecticut': 'Hartford',\n",
       " 'Delaware': 'Dover',\n",
       " 'Florida': 'Tallahassee',\n",
       " 'Georgia': 'Atlanta',\n",
       " 'Hawaii': 'Honolulu',\n",
       " 'Idaho': 'Boise',\n",
       " 'Illinios': 'Springfield',\n",
       " 'Indiana': 'Indianapolis',\n",
       " 'Iowa': 'Des Monies',\n",
       " 'Kansas': 'Topeka',\n",
       " 'Kentucky': 'Frankfort',\n",
       " 'Louisiana': 'Baton Rouge',\n",
       " 'Maine': 'Augusta',\n",
       " 'Maryland': 'Annapolis',\n",
       " 'Massachusetts': 'Boston',\n",
       " 'Michigan': 'Lansing',\n",
       " 'Minnesota': 'St. Paul',\n",
       " 'Mississippi': 'Jackson',\n",
       " 'Missouri': 'Jefferson City',\n",
       " 'Montana': 'Helena',\n",
       " 'Nebraska': 'Lincoln',\n",
       " 'Neveda': 'Carson City',\n",
       " 'New Hampshire': 'Concord',\n",
       " 'New Jersey': 'Trenton',\n",
       " 'New Mexico': 'Santa Fe',\n",
       " 'New York': 'Albany',\n",
       " 'North Carolina': 'Raleigh',\n",
       " 'North Dakota': 'Bismarck',\n",
       " 'Ohio': 'Columbus',\n",
       " 'Oklahoma': 'Oklahoma City',\n",
       " 'Oregon': 'Salem',\n",
       " 'Pennsylvania': 'Harrisburg',\n",
       " 'Rhoda Island': 'Providence',\n",
       " 'South Carolina': 'Columbia',\n",
       " 'South Dakota': 'Pierre',\n",
       " 'Tennessee': 'Nashville',\n",
       " 'Texas': 'Austin',\n",
       " 'Utah': 'Salt Lake City',\n",
       " 'Vermont': 'Montpelier',\n",
       " 'Virginia': 'Richmond',\n",
       " 'Washington': 'Olympia',\n",
       " 'West Virginia': 'Charleston',\n",
       " 'Wisconsin': 'Madison',\n",
       " 'Wyoming': 'Cheyenne'}"
      ]
     },
     "execution_count": 1,
     "metadata": {},
     "output_type": "execute_result"
    }
   ],
   "source": [
    "# Run this cell to create a dictionary of states' capitals\n",
    "capitals={\n",
    "    'Alabama': 'Montgomery',\n",
    "    'Alaska': 'Juneau',\n",
    "    'Arizona':'Phoenix',\n",
    "    'Arkansas':'Little Rock',\n",
    "    'California': 'Sacramento',\n",
    "    'Colorado':'Denver',\n",
    "    'Connecticut':'Hartford',\n",
    "    'Delaware':'Dover',\n",
    "    'Florida': 'Tallahassee',\n",
    "    'Georgia': 'Atlanta',\n",
    "    'Hawaii': 'Honolulu',\n",
    "    'Idaho': 'Boise',\n",
    "    'Illinios': 'Springfield',\n",
    "    'Indiana': 'Indianapolis',\n",
    "    'Iowa': 'Des Monies',\n",
    "    'Kansas': 'Topeka',\n",
    "    'Kentucky': 'Frankfort',\n",
    "    'Louisiana': 'Baton Rouge',\n",
    "    'Maine': 'Augusta',\n",
    "    'Maryland': 'Annapolis',\n",
    "    'Massachusetts': 'Boston',\n",
    "    'Michigan': 'Lansing',\n",
    "    'Minnesota': 'St. Paul',\n",
    "    'Mississippi': 'Jackson',\n",
    "    'Missouri': 'Jefferson City',\n",
    "    'Montana': 'Helena',\n",
    "    'Nebraska': 'Lincoln',\n",
    "    'Neveda': 'Carson City',\n",
    "    'New Hampshire': 'Concord',\n",
    "    'New Jersey': 'Trenton',\n",
    "    'New Mexico': 'Santa Fe',\n",
    "    'New York': 'Albany',\n",
    "    'North Carolina': 'Raleigh',\n",
    "    'North Dakota': 'Bismarck',\n",
    "    'Ohio': 'Columbus',\n",
    "    'Oklahoma': 'Oklahoma City',\n",
    "    'Oregon': 'Salem',\n",
    "    'Pennsylvania': 'Harrisburg',\n",
    "    'Rhoda Island': 'Providence',\n",
    "    'South Carolina': 'Columbia',\n",
    "    'South Dakota': 'Pierre',\n",
    "    'Tennessee': 'Nashville',\n",
    "    'Texas': 'Austin',\n",
    "    'Utah': 'Salt Lake City',\n",
    "    'Vermont': 'Montpelier',\n",
    "    'Virginia': 'Richmond',\n",
    "    'Washington': 'Olympia',\n",
    "    'West Virginia': 'Charleston',\n",
    "    'Wisconsin': 'Madison',\n",
    "    'Wyoming': 'Cheyenne'  \n",
    "}\n",
    "capitals"
   ]
  },
  {
   "cell_type": "code",
   "execution_count": 4,
   "metadata": {},
   "outputs": [
    {
     "data": {
      "text/plain": [
       "'Cheyenne'"
      ]
     },
     "execution_count": 4,
     "metadata": {},
     "output_type": "execute_result"
    }
   ],
   "source": [
    "# Your code here"
   ]
  },
  {
   "cell_type": "code",
   "execution_count": 11,
   "metadata": {},
   "outputs": [
    {
     "name": "stdout",
     "output_type": "stream",
     "text": [
      "['Indiana', 'Oklahoma']\n"
     ]
    }
   ],
   "source": [
    "the_list = []\n",
    "\n",
    "for state in capitals:\n",
    "    if capitals[state].find(state) != -1:\n",
    "        the_list.append(state)\n",
    "        \n",
    "print(the_list)"
   ]
  },
  {
   "cell_type": "code",
   "execution_count": null,
   "metadata": {
    "collapsed": true
   },
   "outputs": [],
   "source": []
  },
  {
   "cell_type": "markdown",
   "metadata": {},
   "source": [
    "### Question #3: Is a point within a rectangle? - 4 points"
   ]
  },
  {
   "cell_type": "markdown",
   "metadata": {},
   "source": [
    "Write a function `isIn()` which returns `True` if a point is within a rectangle specified by two sets of coordinates and `False` if the point is outside the rectangle. The function should accept three parameters:\n",
    "- the first parameter is a set of coordinates which defines the left corner of the rectangle (either bottom left or top left), \n",
    "- the second set of coordinates defines the right corner. \n",
    "- the third set of coordinates defines a single point which is being tested \n",
    "\n",
    "For example, \n",
    "- `isIn((1,2), (3,4), (1.5, 3.2))` should return `True`, \n",
    "- `isIn((-1,0), (5,5), (6,0))` should return `False`\n",
    "\n",
    "Test your function with at least 3 different sets of data points.\n",
    "\n",
    "**NOTE:** If the point being tested is on the side of the rectangle, consider it to be within the rectangle. For example, if the rectangle is defined as `(1,2), (3,4)` and the point is `(3,3)`, the function should return `True`."
   ]
  },
  {
   "cell_type": "code",
   "execution_count": 4,
   "metadata": {},
   "outputs": [
    {
     "ename": "NameError",
     "evalue": "name 'a' is not defined",
     "output_type": "error",
     "traceback": [
      "\u001b[1;31m---------------------------------------------------------------------------\u001b[0m",
      "\u001b[1;31mNameError\u001b[0m                                 Traceback (most recent call last)",
      "\u001b[1;32m<ipython-input-4-239436c63512>\u001b[0m in \u001b[0;36m<module>\u001b[1;34m()\u001b[0m\n\u001b[1;32m----> 1\u001b[1;33m \u001b[1;32mdef\u001b[0m \u001b[0misIn\u001b[0m\u001b[1;33m(\u001b[0m\u001b[0mleftCorner\u001b[0m\u001b[1;33m=\u001b[0m\u001b[1;33m(\u001b[0m\u001b[0ma\u001b[0m\u001b[1;33m,\u001b[0m\u001b[0mb\u001b[0m\u001b[1;33m)\u001b[0m\u001b[1;33m,\u001b[0m \u001b[0mrightCorner\u001b[0m\u001b[1;33m=\u001b[0m\u001b[1;33m(\u001b[0m\u001b[0mc\u001b[0m\u001b[1;33m,\u001b[0m\u001b[0md\u001b[0m\u001b[1;33m)\u001b[0m\u001b[1;33m,\u001b[0m \u001b[0mpoint\u001b[0m\u001b[1;33m=\u001b[0m\u001b[1;33m(\u001b[0m\u001b[0mx\u001b[0m\u001b[1;33m,\u001b[0m\u001b[0my\u001b[0m\u001b[1;33m)\u001b[0m\u001b[1;33m)\u001b[0m\u001b[1;33m:\u001b[0m\u001b[1;33m\u001b[0m\u001b[0m\n\u001b[0m\u001b[0;32m      2\u001b[0m     \u001b[1;31m# YOUR CODE HERE\u001b[0m\u001b[1;33m\u001b[0m\u001b[1;33m\u001b[0m\u001b[0m\n\u001b[0;32m      3\u001b[0m     \u001b[0ma\u001b[0m\u001b[1;33m=\u001b[0m\u001b[1;36m0\u001b[0m\u001b[1;33m\u001b[0m\u001b[0m\n\u001b[0;32m      4\u001b[0m     \u001b[0mb\u001b[0m\u001b[1;33m=\u001b[0m\u001b[1;36m0\u001b[0m\u001b[1;33m\u001b[0m\u001b[0m\n\u001b[0;32m      5\u001b[0m     \u001b[0mc\u001b[0m\u001b[1;33m=\u001b[0m\u001b[1;36m0\u001b[0m\u001b[1;33m\u001b[0m\u001b[0m\n",
      "\u001b[1;31mNameError\u001b[0m: name 'a' is not defined"
     ]
    }
   ],
   "source": [
    "def isIn(leftCorner=(a,b), rightCorner=(c,d), point=(x,y)):\n",
    "    # YOUR CODE HERE\n",
    "    a=0\n",
    "    b=0\n",
    "    c=0\n",
    "    d=0\n",
    "    x=0\n",
    "    y=0\n",
    "    if x>=a and x<=c and y>=b and y<=d:\n",
    "        return true\n",
    "    else:\n",
    "        return false"
   ]
  },
  {
   "cell_type": "code",
   "execution_count": null,
   "metadata": {
    "collapsed": true
   },
   "outputs": [],
   "source": []
  },
  {
   "cell_type": "code",
   "execution_count": null,
   "metadata": {
    "collapsed": true
   },
   "outputs": [],
   "source": []
  },
  {
   "cell_type": "code",
   "execution_count": null,
   "metadata": {
    "collapsed": true
   },
   "outputs": [],
   "source": []
  },
  {
   "cell_type": "markdown",
   "metadata": {},
   "source": [
    "### Question #4: Is a list of points within a rectangle?  - 4 points"
   ]
  },
  {
   "cell_type": "markdown",
   "metadata": {},
   "source": [
    "Modify your function from the previous question so it takes a list of points rather than a single point and returns `True` only if all points in the list are in the rectangle.\n",
    "\n",
    "For example,\n",
    "\n",
    "- `allIn((0,0), (5,5), [(1,1), (0,0), (5,5)])` should return `True`\n",
    "- but `allIn((0,0), (5,5), [(1,1), (0,0), (5,6)])` should return `False`\n",
    "\n",
    "Use the same assumption as above about the placement of the points."
   ]
  },
  {
   "cell_type": "code",
   "execution_count": null,
   "metadata": {
    "collapsed": true
   },
   "outputs": [],
   "source": [
    "def allIn(leftCorner=(0,0), rightCorner=(0,0), pointList=[]):\n",
    "    # YOUR CODE HERE"
   ]
  },
  {
   "cell_type": "code",
   "execution_count": null,
   "metadata": {
    "collapsed": true
   },
   "outputs": [],
   "source": []
  },
  {
   "cell_type": "code",
   "execution_count": null,
   "metadata": {
    "collapsed": true
   },
   "outputs": [],
   "source": []
  },
  {
   "cell_type": "code",
   "execution_count": null,
   "metadata": {
    "collapsed": true
   },
   "outputs": [],
   "source": []
  },
  {
   "cell_type": "code",
   "execution_count": null,
   "metadata": {
    "collapsed": true
   },
   "outputs": [],
   "source": []
  },
  {
   "cell_type": "code",
   "execution_count": null,
   "metadata": {
    "collapsed": true
   },
   "outputs": [],
   "source": []
  }
 ],
 "metadata": {
  "kernelspec": {
   "display_name": "Python 3",
   "language": "python",
   "name": "python3"
  },
  "language_info": {
   "codemirror_mode": {
    "name": "ipython",
    "version": 3
   },
   "file_extension": ".py",
   "mimetype": "text/x-python",
   "name": "python",
   "nbconvert_exporter": "python",
   "pygments_lexer": "ipython3",
   "version": "3.7.0"
  },
  "toc": {
   "base_numbering": 1,
   "nav_menu": {},
   "number_sections": true,
   "sideBar": true,
   "skip_h1_title": true,
   "title_cell": "Table of Contents",
   "title_sidebar": "Contents",
   "toc_cell": false,
   "toc_position": {},
   "toc_section_display": true,
   "toc_window_display": false
  }
 },
 "nbformat": 4,
 "nbformat_minor": 2
}
