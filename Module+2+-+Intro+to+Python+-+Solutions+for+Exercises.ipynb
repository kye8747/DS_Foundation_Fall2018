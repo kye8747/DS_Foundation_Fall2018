{
 "cells": [
  {
   "cell_type": "markdown",
   "metadata": {},
   "source": [
    "## Module 2 - Intro to Python - Solutions for Exercises"
   ]
  },
  {
   "cell_type": "markdown",
   "metadata": {},
   "source": [
    "### Exercise 1: Fibonacci sequence (section \"Iterations\", Part 1)."
   ]
  },
  {
   "cell_type": "markdown",
   "metadata": {},
   "source": [
    "Write a function to compute the n-th element of the Fibonacci sequence recursively.  \n",
    "If you need to familiarize yourself with the Fibonacci sequence, please refer to\n",
    "https://en.wikipedia.org/wiki/Fibonacci_number (Fibonacci number, n.d.).\n",
    "The function should take an integer number `n` as an argument and return n-th element of the Fibonacci sequence.\n",
    "The first two numbers in the sequence are 0 and 1, and each subsequent number is the sum of the previous two."
   ]
  },
  {
   "cell_type": "code",
   "execution_count": 1,
   "metadata": {},
   "outputs": [],
   "source": [
    "''' The first two numbers are 0 and 1; so that if n is 0 or 1,\n",
    "the numbers in Fibonacci sequence are 0 and 1, correspondingly.\n",
    "For the n numbers following 0 or 1, we take sum of two preceding numbers in the sequence.'''\n",
    "\n",
    "def fibonacci(n):\n",
    "    if n <= 1:\n",
    "        return n\n",
    "    else:\n",
    "        return fibonacci(n-1) + fibonacci(n-2)"
   ]
  },
  {
   "cell_type": "code",
   "execution_count": 3,
   "metadata": {},
   "outputs": [
    {
     "data": {
      "text/plain": [
       "55"
      ]
     },
     "execution_count": 3,
     "metadata": {},
     "output_type": "execute_result"
    }
   ],
   "source": [
    "# Let's test if we got it right:\n",
    "\n",
    "fibonacci(10)\n"
   ]
  },
  {
   "cell_type": "code",
   "execution_count": 4,
   "metadata": {},
   "outputs": [
    {
     "data": {
      "text/plain": [
       "144"
      ]
     },
     "execution_count": 4,
     "metadata": {},
     "output_type": "execute_result"
    }
   ],
   "source": [
    "# For n=12 we should get 144:\n",
    "\n",
    "fibonacci(12)"
   ]
  },
  {
   "cell_type": "markdown",
   "metadata": {},
   "source": [
    "###  Exercise 2: Index of the second occurrence (section \"Strings\", Part 2)"
   ]
  },
  {
   "cell_type": "markdown",
   "metadata": {},
   "source": [
    "The method `find` can be used in an expression like `s1.find(s2)` to find the index of the first occurrence of the substring `s2` in the string `s1`.  \n",
    "\n",
    "This method also takes an optional start argument, and the expression `s1.find(s2, start)` will return the first occurrence of the `s2` substring after the start index.\n",
    "\n",
    "Write an expression to produce the second occurrence of the `s2` substring in the `s1` string. "
   ]
  },
  {
   "cell_type": "code",
   "execution_count": 6,
   "metadata": {},
   "outputs": [],
   "source": [
    "# Let's define some strings. \n",
    "# We will use the word \"supercalifragilisticexpialidocious\" as the main word.\n",
    "# This word consists of thirty-four letters. \n",
    "# Mary Poppins described it as the word to use “when you have nothing to say.”\n",
    "# https://youtu.be/1Pu1adxqUAg\n",
    "# This word contains two instances of a substring \"al\" which we will be searching for.\n",
    "\n",
    "s1 = 'supercalifragilisticexpialidocious'\n",
    "s2 = 'al'"
   ]
  },
  {
   "cell_type": "code",
   "execution_count": 8,
   "metadata": {},
   "outputs": [
    {
     "data": {
      "text/plain": [
       "6"
      ]
     },
     "execution_count": 8,
     "metadata": {},
     "output_type": "execute_result"
    }
   ],
   "source": [
    "'''First, let's find the first occurence of the s2 substring.\n",
    "The code below will return the start index of the string.'''\n",
    "\n",
    "first_occurence = s1.find(s2)\n",
    "first_occurence"
   ]
  },
  {
   "cell_type": "code",
   "execution_count": 9,
   "metadata": {},
   "outputs": [
    {
     "data": {
      "text/plain": [
       "24"
      ]
     },
     "execution_count": 9,
     "metadata": {},
     "output_type": "execute_result"
    }
   ],
   "source": [
    "'''Next, to find the second occurence we should start after the first occurence.'''\n",
    "\n",
    "s1.find(s2, first_occurence + 1)"
   ]
  },
  {
   "cell_type": "code",
   "execution_count": 10,
   "metadata": {},
   "outputs": [
    {
     "data": {
      "text/plain": [
       "24"
      ]
     },
     "execution_count": 10,
     "metadata": {},
     "output_type": "execute_result"
    }
   ],
   "source": [
    "'''Or these two expressions can be combined into one.'''\n",
    "\n",
    "s1.find(s2, s1.find(s2)+1)"
   ]
  },
  {
   "cell_type": "markdown",
   "metadata": {},
   "source": [
    "### Exercise 3: Lists (section \"Lists\", Part 2)"
   ]
  },
  {
   "cell_type": "markdown",
   "metadata": {},
   "source": [
    "1). Generate a list of integers from 0 to 5, reverse the list and print it out. Explain how you reversed the list.     \n",
    "**Hint:** the `append()` function will help you to generate the list by adding one integer to the list at a time"
   ]
  },
  {
   "cell_type": "code",
   "execution_count": 17,
   "metadata": {},
   "outputs": [
    {
     "name": "stdout",
     "output_type": "stream",
     "text": [
      "[0, 1, 2, 3, 4, 5]\n",
      "0\n",
      "1\n",
      "2\n",
      "3\n",
      "4\n",
      "5\n"
     ]
    }
   ],
   "source": [
    "'''1). An empty list can be created first.'''\n",
    "list_integers = []\n",
    "\n",
    "'''Than integers can be added to the list.'''\n",
    "for i in range(0,6):\n",
    "    list_integers.append(i)\n",
    "\n",
    "'''Printing out the whole list:'''\n",
    "print(list_integers)\n",
    "\n",
    "'''or by elements:'''\n",
    "for n in list_integers:\n",
    "    print(n)"
   ]
  },
  {
   "cell_type": "markdown",
   "metadata": {},
   "source": [
    "Now we need to reverse the list. Here, we will show four different solutions for reversing the list:\n",
    "1. Using `reversed()` function. This function does not return a list, it returns an iterator which accesses the list in reverse order. In order for us to print the reversed list, we will need to use `list()` function to get a list from the iterator\n",
    "2. We can slice the list to reverse it. Slice does not modify the original list, it returns a new list. Syntax `[start:stop:step]`.\n",
    "3. The list can be reversed using `sort()` function. This function will reverse the list in place.\n",
    "4. And finally, using `reverse()` function. This function will reverse the list in place as well, the original list will be modified.\n",
    "\n",
    "Let's look at all four solutions:"
   ]
  },
  {
   "cell_type": "code",
   "execution_count": 18,
   "metadata": {},
   "outputs": [
    {
     "name": "stdout",
     "output_type": "stream",
     "text": [
      "Using reversed() function:\n",
      "[5, 4, 3, 2, 1, 0]\n",
      "And the original list is not updated:\n",
      "[0, 1, 2, 3, 4, 5]\n"
     ]
    }
   ],
   "source": [
    "# 1.1. Using reversed() function:\n",
    "\n",
    "rev_iterator = reversed(list_integers)\n",
    "\n",
    "# To return the list which we can then print out, we need to add list() in front.\n",
    "print (\"Using reversed() function:\")\n",
    "print(list(rev_iterator))\n",
    "\n",
    "# These operations did not change our oringinal list:\n",
    "print (\"And the original list is not updated:\")\n",
    "print(list_integers)"
   ]
  },
  {
   "cell_type": "code",
   "execution_count": 19,
   "metadata": {},
   "outputs": [
    {
     "name": "stdout",
     "output_type": "stream",
     "text": [
      "Reversed list:\n",
      "[5, 4, 3, 2, 1, 0]\n",
      "This is the original list:\n",
      "[0, 1, 2, 3, 4, 5]\n"
     ]
    }
   ],
   "source": [
    "# 1.2. Slicing list to reverse it:\n",
    "\n",
    "'''To make a copy of the whole list the start and stop indexes are omitted.\n",
    "The negative step will slice over the list in reverse.'''\n",
    "\n",
    "reversed_list_2 = list_integers[::-1]\n",
    "\n",
    "print('Reversed list:')\n",
    "print(reversed_list_2)\n",
    "\n",
    "'''Slice does not modify the original list, it returns a new list.'''\n",
    "print('This is the original list:')\n",
    "print(list_integers)"
   ]
  },
  {
   "cell_type": "code",
   "execution_count": 20,
   "metadata": {},
   "outputs": [
    {
     "name": "stdout",
     "output_type": "stream",
     "text": [
      "Using sort() function:\n",
      "[5, 4, 3, 2, 1, 0]\n"
     ]
    }
   ],
   "source": [
    "# 1.3. Using sort() function. This function will modify the original list:\n",
    "\n",
    "list_integers.sort(reverse = True) \n",
    "print (\"Using sort() function:\")\n",
    "print (list_integers)"
   ]
  },
  {
   "cell_type": "code",
   "execution_count": 21,
   "metadata": {},
   "outputs": [
    {
     "name": "stdout",
     "output_type": "stream",
     "text": [
      "Using reverse() function. And we are back to the original list of integers from 0 to 5:\n",
      "[0, 1, 2, 3, 4, 5]\n"
     ]
    }
   ],
   "source": [
    "# 1.4. Using reverse() function. This function will modify the original list as well \n",
    "# and we should get the same list as we have created in the beginning of this exercise:\n",
    "\n",
    "list_integers.reverse()\n",
    "\n",
    "print (\"Using reverse() function. And we are back to the original list of integers from 0 to 5:\")\n",
    "print (list_integers)"
   ]
  },
  {
   "cell_type": "markdown",
   "metadata": {},
   "source": [
    "2). Generate a list of strings. Add the items from the list of strings to the list of integers from part 1.\n",
    "Explain your choice of string method. "
   ]
  },
  {
   "cell_type": "code",
   "execution_count": 22,
   "metadata": {},
   "outputs": [],
   "source": [
    "# The list of strings is created:\n",
    "\n",
    "sequences = ['string', 'list']"
   ]
  },
  {
   "cell_type": "code",
   "execution_count": 23,
   "metadata": {},
   "outputs": [
    {
     "data": {
      "text/plain": [
       "[0, 1, 2, 3, 4, 5, 'string', 'list']"
      ]
     },
     "execution_count": 23,
     "metadata": {},
     "output_type": "execute_result"
    }
   ],
   "source": [
    "# 2.1. The method 'extend()' appends all the elements from the second list,\n",
    "# one by one.\n",
    "\n",
    "list_integers.extend(sequences)\n",
    "list_integers"
   ]
  },
  {
   "cell_type": "code",
   "execution_count": 24,
   "metadata": {},
   "outputs": [
    {
     "data": {
      "text/plain": [
       "[0, 1, 2, 3, 4, 5, 'string', 'list', ['string', 'list']]"
      ]
     },
     "execution_count": 24,
     "metadata": {},
     "output_type": "execute_result"
    }
   ],
   "source": [
    "# 2.2. The method 'append()' adds a list of strings to the first list\n",
    "# as a nested list:\n",
    "\n",
    "list_integers.append(sequences)\n",
    "list_integers"
   ]
  },
  {
   "cell_type": "markdown",
   "metadata": {},
   "source": [
    "### Exercise 4: Word count (section \"Dictionaries\", Part 3)"
   ]
  },
  {
   "cell_type": "markdown",
   "metadata": {},
   "source": [
    "Imagine that you are given a long sentence and need to count how many times each word appears in the sentence.    \n",
    "\n",
    "1). First, split the sentence into a list of words. We will use a sentence consisting of 251 words from \"Barnaby Rudge\", by Charles Dickens."
   ]
  },
  {
   "cell_type": "code",
   "execution_count": 25,
   "metadata": {},
   "outputs": [],
   "source": [
    "long_sentence = 'To none of these interrogatories, whereof every one was more pathetically delivered than the last, did Mrs Varden answer one word: but Miggs, not at all abashed by this circumstance, turned to the small boy in attendance—her eldest nephew—son of her own married sister—born in Golden Lion Court, number twenty-sivin, and bred in the very shadow of the second bell-handle on the right- hand door-post—and with a plentiful use of her pocket- handkerchief, addressed herself to him: requesting that on his return home he would console his parents for the loss of her, his aunt, by delivering to them a faithful statement of his having left her in the bosom of that family, with which, as his aforesaid parents well knew, her best affections were incorporated; that he would remind them that nothing less than her imperious sense of duty, and devoted attachment to her old master and missis, likewise Miss Dolly and young Mr Joe, should ever have induced her to decline that pressing invitation which they, his parents, had, as he could testify, given her, to lodge and board with them, free of all cost and charge, for evermore; lastly, that he would help her with her box upstairs, and then repair straight home, bearing her blessing and her strong injunctions to mingle in his prayers a supplication that he might in course of time grow up a locksmith, or a Mr Joe, and have Mrs Vardens and Miss Dollys for his relations and friends.'"
   ]
  },
  {
   "cell_type": "markdown",
   "metadata": {},
   "source": [
    "To split this string (sentence), we can use the method `split()`. Any delimiter can be passed as the first argument to split the string `long_sentence`. If the `sep` parameter is not specified, any whitespace will be treated as a separator by default. \n",
    "\n",
    "We also want to make sure that we count `To` and `to` as one word. We will convert all words in the sentence to lower case. "
   ]
  },
  {
   "cell_type": "code",
   "execution_count": 31,
   "metadata": {},
   "outputs": [
    {
     "data": {
      "text/plain": [
       "['to',\n",
       " 'none',\n",
       " 'of',\n",
       " 'these',\n",
       " 'interrogatories,',\n",
       " 'whereof',\n",
       " 'every',\n",
       " 'one',\n",
       " 'was',\n",
       " 'more',\n",
       " 'pathetically',\n",
       " 'delivered',\n",
       " 'than',\n",
       " 'the',\n",
       " 'last,',\n",
       " 'did',\n",
       " 'mrs',\n",
       " 'varden',\n",
       " 'answer',\n",
       " 'one',\n",
       " 'word:',\n",
       " 'but',\n",
       " 'miggs,',\n",
       " 'not',\n",
       " 'at',\n",
       " 'all',\n",
       " 'abashed',\n",
       " 'by',\n",
       " 'this',\n",
       " 'circumstance,',\n",
       " 'turned',\n",
       " 'to',\n",
       " 'the',\n",
       " 'small',\n",
       " 'boy',\n",
       " 'in',\n",
       " 'attendance—her',\n",
       " 'eldest',\n",
       " 'nephew—son',\n",
       " 'of',\n",
       " 'her',\n",
       " 'own',\n",
       " 'married',\n",
       " 'sister—born',\n",
       " 'in',\n",
       " 'golden',\n",
       " 'lion',\n",
       " 'court,',\n",
       " 'number',\n",
       " 'twenty-sivin,',\n",
       " 'and',\n",
       " 'bred',\n",
       " 'in',\n",
       " 'the',\n",
       " 'very',\n",
       " 'shadow',\n",
       " 'of',\n",
       " 'the',\n",
       " 'second',\n",
       " 'bell-handle',\n",
       " 'on',\n",
       " 'the',\n",
       " 'right-',\n",
       " 'hand',\n",
       " 'door-post—and',\n",
       " 'with',\n",
       " 'a',\n",
       " 'plentiful',\n",
       " 'use',\n",
       " 'of',\n",
       " 'her',\n",
       " 'pocket-',\n",
       " 'handkerchief,',\n",
       " 'addressed',\n",
       " 'herself',\n",
       " 'to',\n",
       " 'him:',\n",
       " 'requesting',\n",
       " 'that',\n",
       " 'on',\n",
       " 'his',\n",
       " 'return',\n",
       " 'home',\n",
       " 'he',\n",
       " 'would',\n",
       " 'console',\n",
       " 'his',\n",
       " 'parents',\n",
       " 'for',\n",
       " 'the',\n",
       " 'loss',\n",
       " 'of',\n",
       " 'her,',\n",
       " 'his',\n",
       " 'aunt,',\n",
       " 'by',\n",
       " 'delivering',\n",
       " 'to',\n",
       " 'them',\n",
       " 'a',\n",
       " 'faithful',\n",
       " 'statement',\n",
       " 'of',\n",
       " 'his',\n",
       " 'having',\n",
       " 'left',\n",
       " 'her',\n",
       " 'in',\n",
       " 'the',\n",
       " 'bosom',\n",
       " 'of',\n",
       " 'that',\n",
       " 'family,',\n",
       " 'with',\n",
       " 'which,',\n",
       " 'as',\n",
       " 'his',\n",
       " 'aforesaid',\n",
       " 'parents',\n",
       " 'well',\n",
       " 'knew,',\n",
       " 'her',\n",
       " 'best',\n",
       " 'affections',\n",
       " 'were',\n",
       " 'incorporated;',\n",
       " 'that',\n",
       " 'he',\n",
       " 'would',\n",
       " 'remind',\n",
       " 'them',\n",
       " 'that',\n",
       " 'nothing',\n",
       " 'less',\n",
       " 'than',\n",
       " 'her',\n",
       " 'imperious',\n",
       " 'sense',\n",
       " 'of',\n",
       " 'duty,',\n",
       " 'and',\n",
       " 'devoted',\n",
       " 'attachment',\n",
       " 'to',\n",
       " 'her',\n",
       " 'old',\n",
       " 'master',\n",
       " 'and',\n",
       " 'missis,',\n",
       " 'likewise',\n",
       " 'miss',\n",
       " 'dolly',\n",
       " 'and',\n",
       " 'young',\n",
       " 'mr',\n",
       " 'joe,',\n",
       " 'should',\n",
       " 'ever',\n",
       " 'have',\n",
       " 'induced',\n",
       " 'her',\n",
       " 'to',\n",
       " 'decline',\n",
       " 'that',\n",
       " 'pressing',\n",
       " 'invitation',\n",
       " 'which',\n",
       " 'they,',\n",
       " 'his',\n",
       " 'parents,',\n",
       " 'had,',\n",
       " 'as',\n",
       " 'he',\n",
       " 'could',\n",
       " 'testify,',\n",
       " 'given',\n",
       " 'her,',\n",
       " 'to',\n",
       " 'lodge',\n",
       " 'and',\n",
       " 'board',\n",
       " 'with',\n",
       " 'them,',\n",
       " 'free',\n",
       " 'of',\n",
       " 'all',\n",
       " 'cost',\n",
       " 'and',\n",
       " 'charge,',\n",
       " 'for',\n",
       " 'evermore;',\n",
       " 'lastly,',\n",
       " 'that',\n",
       " 'he',\n",
       " 'would',\n",
       " 'help',\n",
       " 'her',\n",
       " 'with',\n",
       " 'her',\n",
       " 'box',\n",
       " 'upstairs,',\n",
       " 'and',\n",
       " 'then',\n",
       " 'repair',\n",
       " 'straight',\n",
       " 'home,',\n",
       " 'bearing',\n",
       " 'her',\n",
       " 'blessing',\n",
       " 'and',\n",
       " 'her',\n",
       " 'strong',\n",
       " 'injunctions',\n",
       " 'to',\n",
       " 'mingle',\n",
       " 'in',\n",
       " 'his',\n",
       " 'prayers',\n",
       " 'a',\n",
       " 'supplication',\n",
       " 'that',\n",
       " 'he',\n",
       " 'might',\n",
       " 'in',\n",
       " 'course',\n",
       " 'of',\n",
       " 'time',\n",
       " 'grow',\n",
       " 'up',\n",
       " 'a',\n",
       " 'locksmith,',\n",
       " 'or',\n",
       " 'a',\n",
       " 'mr',\n",
       " 'joe,',\n",
       " 'and',\n",
       " 'have',\n",
       " 'mrs',\n",
       " 'vardens',\n",
       " 'and',\n",
       " 'miss',\n",
       " 'dollys',\n",
       " 'for',\n",
       " 'his',\n",
       " 'relations',\n",
       " 'and',\n",
       " 'friends.']"
      ]
     },
     "execution_count": 31,
     "metadata": {},
     "output_type": "execute_result"
    }
   ],
   "source": [
    "list_of_words = long_sentence.lower().split(sep=' ')\n",
    "list_of_words"
   ]
  },
  {
   "cell_type": "markdown",
   "metadata": {},
   "source": [
    "2). Create a dictionary from that list where keys are unique words (e.g. if \"the\" appears in the sentence 3 times, there will only be one key for \"the\") from the list, and the values are its occurrence number."
   ]
  },
  {
   "cell_type": "code",
   "execution_count": 32,
   "metadata": {},
   "outputs": [],
   "source": [
    "# Start with creating an empty dictionary:\n",
    "\n",
    "word_count_dictionary = {}"
   ]
  },
  {
   "cell_type": "markdown",
   "metadata": {},
   "source": [
    "This dictionary will hold all unique words as keys with the count of the word occurrence as a number. If the word is not in the dictionary, we will add a new key and set its value to 1, for existing key the value is incremented by 1."
   ]
  },
  {
   "cell_type": "code",
   "execution_count": 33,
   "metadata": {},
   "outputs": [
    {
     "data": {
      "text/plain": [
       "{'to': 8,\n",
       " 'none': 1,\n",
       " 'of': 10,\n",
       " 'these': 1,\n",
       " 'interrogatories,': 1,\n",
       " 'whereof': 1,\n",
       " 'every': 1,\n",
       " 'one': 2,\n",
       " 'was': 1,\n",
       " 'more': 1,\n",
       " 'pathetically': 1,\n",
       " 'delivered': 1,\n",
       " 'than': 2,\n",
       " 'the': 7,\n",
       " 'last,': 1,\n",
       " 'did': 1,\n",
       " 'mrs': 2,\n",
       " 'varden': 1,\n",
       " 'answer': 1,\n",
       " 'word:': 1,\n",
       " 'but': 1,\n",
       " 'miggs,': 1,\n",
       " 'not': 1,\n",
       " 'at': 1,\n",
       " 'all': 2,\n",
       " 'abashed': 1,\n",
       " 'by': 2,\n",
       " 'this': 1,\n",
       " 'circumstance,': 1,\n",
       " 'turned': 1,\n",
       " 'small': 1,\n",
       " 'boy': 1,\n",
       " 'in': 6,\n",
       " 'attendance—her': 1,\n",
       " 'eldest': 1,\n",
       " 'nephew—son': 1,\n",
       " 'her': 11,\n",
       " 'own': 1,\n",
       " 'married': 1,\n",
       " 'sister—born': 1,\n",
       " 'golden': 1,\n",
       " 'lion': 1,\n",
       " 'court,': 1,\n",
       " 'number': 1,\n",
       " 'twenty-sivin,': 1,\n",
       " 'and': 11,\n",
       " 'bred': 1,\n",
       " 'very': 1,\n",
       " 'shadow': 1,\n",
       " 'second': 1,\n",
       " 'bell-handle': 1,\n",
       " 'on': 2,\n",
       " 'right-': 1,\n",
       " 'hand': 1,\n",
       " 'door-post—and': 1,\n",
       " 'with': 4,\n",
       " 'a': 5,\n",
       " 'plentiful': 1,\n",
       " 'use': 1,\n",
       " 'pocket-': 1,\n",
       " 'handkerchief,': 1,\n",
       " 'addressed': 1,\n",
       " 'herself': 1,\n",
       " 'him:': 1,\n",
       " 'requesting': 1,\n",
       " 'that': 7,\n",
       " 'his': 8,\n",
       " 'return': 1,\n",
       " 'home': 1,\n",
       " 'he': 5,\n",
       " 'would': 3,\n",
       " 'console': 1,\n",
       " 'parents': 2,\n",
       " 'for': 3,\n",
       " 'loss': 1,\n",
       " 'her,': 2,\n",
       " 'aunt,': 1,\n",
       " 'delivering': 1,\n",
       " 'them': 2,\n",
       " 'faithful': 1,\n",
       " 'statement': 1,\n",
       " 'having': 1,\n",
       " 'left': 1,\n",
       " 'bosom': 1,\n",
       " 'family,': 1,\n",
       " 'which,': 1,\n",
       " 'as': 2,\n",
       " 'aforesaid': 1,\n",
       " 'well': 1,\n",
       " 'knew,': 1,\n",
       " 'best': 1,\n",
       " 'affections': 1,\n",
       " 'were': 1,\n",
       " 'incorporated;': 1,\n",
       " 'remind': 1,\n",
       " 'nothing': 1,\n",
       " 'less': 1,\n",
       " 'imperious': 1,\n",
       " 'sense': 1,\n",
       " 'duty,': 1,\n",
       " 'devoted': 1,\n",
       " 'attachment': 1,\n",
       " 'old': 1,\n",
       " 'master': 1,\n",
       " 'missis,': 1,\n",
       " 'likewise': 1,\n",
       " 'miss': 2,\n",
       " 'dolly': 1,\n",
       " 'young': 1,\n",
       " 'mr': 2,\n",
       " 'joe,': 2,\n",
       " 'should': 1,\n",
       " 'ever': 1,\n",
       " 'have': 2,\n",
       " 'induced': 1,\n",
       " 'decline': 1,\n",
       " 'pressing': 1,\n",
       " 'invitation': 1,\n",
       " 'which': 1,\n",
       " 'they,': 1,\n",
       " 'parents,': 1,\n",
       " 'had,': 1,\n",
       " 'could': 1,\n",
       " 'testify,': 1,\n",
       " 'given': 1,\n",
       " 'lodge': 1,\n",
       " 'board': 1,\n",
       " 'them,': 1,\n",
       " 'free': 1,\n",
       " 'cost': 1,\n",
       " 'charge,': 1,\n",
       " 'evermore;': 1,\n",
       " 'lastly,': 1,\n",
       " 'help': 1,\n",
       " 'box': 1,\n",
       " 'upstairs,': 1,\n",
       " 'then': 1,\n",
       " 'repair': 1,\n",
       " 'straight': 1,\n",
       " 'home,': 1,\n",
       " 'bearing': 1,\n",
       " 'blessing': 1,\n",
       " 'strong': 1,\n",
       " 'injunctions': 1,\n",
       " 'mingle': 1,\n",
       " 'prayers': 1,\n",
       " 'supplication': 1,\n",
       " 'might': 1,\n",
       " 'course': 1,\n",
       " 'time': 1,\n",
       " 'grow': 1,\n",
       " 'up': 1,\n",
       " 'locksmith,': 1,\n",
       " 'or': 1,\n",
       " 'vardens': 1,\n",
       " 'dollys': 1,\n",
       " 'relations': 1,\n",
       " 'friends.': 1}"
      ]
     },
     "execution_count": 33,
     "metadata": {},
     "output_type": "execute_result"
    }
   ],
   "source": [
    "for w in list_of_words:\n",
    "    if w not in word_count_dictionary:\n",
    "        word_count_dictionary[w] = 1\n",
    "    else:\n",
    "        word_count_dictionary[w] += 1\n",
    "        \n",
    "word_count_dictionary"
   ]
  },
  {
   "cell_type": "code",
   "execution_count": null,
   "metadata": {},
   "outputs": [],
   "source": []
  }
 ],
 "metadata": {
  "kernelspec": {
   "display_name": "Python 3",
   "language": "python",
   "name": "python3"
  },
  "language_info": {
   "codemirror_mode": {
    "name": "ipython",
    "version": 3
   },
   "file_extension": ".py",
   "mimetype": "text/x-python",
   "name": "python",
   "nbconvert_exporter": "python",
   "pygments_lexer": "ipython3",
   "version": "3.6.6"
  },
  "toc": {
   "base_numbering": 1,
   "nav_menu": {},
   "number_sections": true,
   "sideBar": true,
   "skip_h1_title": true,
   "title_cell": "Table of Contents",
   "title_sidebar": "Contents",
   "toc_cell": false,
   "toc_position": {},
   "toc_section_display": true,
   "toc_window_display": false
  }
 },
 "nbformat": 4,
 "nbformat_minor": 2
}
