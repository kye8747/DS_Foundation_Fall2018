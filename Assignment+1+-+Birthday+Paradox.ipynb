{
 "cells": [
  {
   "cell_type": "markdown",
   "metadata": {},
   "source": [
    "# Assignment 1 - Intro to Python"
   ]
  },
  {
   "cell_type": "markdown",
   "metadata": {},
   "source": [
    "### Medium complexity - Birthday Paradox"
   ]
  },
  {
   "cell_type": "markdown",
   "metadata": {},
   "source": [
    "Birthday paradox concerns the probability that, in a set of `n` randomly chosen people, some pair of them will have the same birthday. You can read about this problem at https://en.wikipedia.org/wiki/Birthday_problem.\n",
    "\n",
    "Write a function called **`has_duplicates()`**, that takes a list and returns `True` if there is any element that appears more than once. It should not modify the original list.\n",
    "\n",
    "If there are 45 students in the class, what are the chances that any two students will have the same birthday? You can estimate this probability by generating random samples of 45 birthdays and checking for matches.\n",
    "\n",
    "**Hints:**\n",
    "1. you can generate random birthdays with the `randint` function in the `random` module. \n",
    "2. For simplicity, use the day number of the year, not the actual date\n",
    "3. you can use the book solution as a starting point for this assignment: https://github.com/AllenDowney/ThinkPython2/blob/master/code/birthday.py or http://greenteapress.com/thinkpython2/code/birthday.py\n",
    "\n",
    "The code should print out: \n",
    "- number of students\n",
    "- number of iterations/samples\n",
    "- list of duplicate days for each iteration, where duplicates are found\n",
    "- probability"
   ]
  },
  {
   "cell_type": "code",
   "execution_count": null,
   "metadata": {
    "collapsed": true
   },
   "outputs": [],
   "source": []
  }
 ],
 "metadata": {
  "kernelspec": {
   "display_name": "Python 3",
   "language": "python",
   "name": "python3"
  },
  "language_info": {
   "codemirror_mode": {
    "name": "ipython",
    "version": 3
   },
   "file_extension": ".py",
   "mimetype": "text/x-python",
   "name": "python",
   "nbconvert_exporter": "python",
   "pygments_lexer": "ipython3",
   "version": "3.6.3"
  },
  "toc": {
   "base_numbering": 1,
   "nav_menu": {},
   "number_sections": true,
   "sideBar": true,
   "skip_h1_title": true,
   "title_cell": "Table of Contents",
   "title_sidebar": "Contents",
   "toc_cell": false,
   "toc_position": {},
   "toc_section_display": true,
   "toc_window_display": false
  }
 },
 "nbformat": 4,
 "nbformat_minor": 2
}
