{
 "cells": [
  {
   "cell_type": "markdown",
   "metadata": {},
   "source": [
    "# Module 2 Part 3: Python Tuples, Dictionaries, Reading Data from a File, Formatting Print Output"
   ]
  },
  {
   "cell_type": "markdown",
   "metadata": {},
   "source": [
    "This module is designed as an introduction to the Python programming language. It covers the basic syntax of Python, main data types and most used data collections with examples.\n",
    "\n",
    "This module consists of 3 parts:\n",
    "\n",
    "- **Part 1** - Introduction to Python.\n",
    "- **Part 2** - Python Strings and Lists.\n",
    "- **Part 3** - Python Tuples, Dictionaries, Reading data from a file, Formatting print output.\n",
    "\n",
    "This notebook contains **Part 3** of the Module 2."
   ]
  },
  {
   "cell_type": "markdown",
   "metadata": {},
   "source": [
    "## Tuples"
   ]
  },
  {
   "cell_type": "markdown",
   "metadata": {},
   "source": [
    "__Tuples__ are similar to lists, but are immutable. A tuple is declared as a comma-separated sequence of values or using the `tuple()` function. Below, two tuples are created:\n",
    "- `new_tuple` is created from a comma-separated sequence of strings\n",
    "- `vowels` is created by splitting a string."
   ]
  },
  {
   "cell_type": "code",
   "execution_count": 7,
   "metadata": {
    "collapsed": true
   },
   "outputs": [],
   "source": [
    "new_tuple = \"apple\", \"banana\", \"orange\""
   ]
  },
  {
   "cell_type": "code",
   "execution_count": 8,
   "metadata": {},
   "outputs": [
    {
     "data": {
      "text/plain": [
       "('apple', 'banana', 'orange')"
      ]
     },
     "execution_count": 8,
     "metadata": {},
     "output_type": "execute_result"
    }
   ],
   "source": [
    "new_tuple"
   ]
  },
  {
   "cell_type": "code",
   "execution_count": 9,
   "metadata": {},
   "outputs": [
    {
     "data": {
      "text/plain": [
       "tuple"
      ]
     },
     "execution_count": 9,
     "metadata": {},
     "output_type": "execute_result"
    }
   ],
   "source": [
    "type(new_tuple)"
   ]
  },
  {
   "cell_type": "code",
   "execution_count": null,
   "metadata": {
    "collapsed": true
   },
   "outputs": [],
   "source": [
    "'''The tuple of English vowels:'''\n",
    "\n",
    "vowels = tuple('yeiouAEIOU')\n",
    "vowels"
   ]
  },
  {
   "cell_type": "code",
   "execution_count": null,
   "metadata": {
    "collapsed": true
   },
   "outputs": [],
   "source": [
    "'''Since a tuple is immutable, it cannot be changed.\n",
    "Instead, a new tuple will be created.'''\n",
    "\n",
    "vowels_corrected = ('a',) + vowels[1:]\n",
    "t_single_elem = (\"one\",)\n",
    "empty_tuple = ()\n",
    "\n",
    "print(t_single_elem)\n",
    "print(empty_tuple)\n",
    "vowels_corrected"
   ]
  },
  {
   "cell_type": "markdown",
   "metadata": {},
   "source": [
    "### Tuple Assignments"
   ]
  },
  {
   "cell_type": "markdown",
   "metadata": {},
   "source": [
    "Tuples can be used to easily swap the values of two variables. Python allows this to be implemented without the need for a temporary variable, in one line of code:"
   ]
  },
  {
   "cell_type": "code",
   "execution_count": null,
   "metadata": {
    "collapsed": true
   },
   "outputs": [],
   "source": [
    "a = 1\n",
    "b = 5\n",
    "\n",
    "a,b = b,a\n",
    "\n",
    "print(a)\n",
    "print(b)"
   ]
  },
  {
   "cell_type": "markdown",
   "metadata": {},
   "source": [
    "An example below demonstrates how to extract values from a tuple, or to unpack a tuple. \n",
    "\n",
    "**NOTE:** The number of variables on the left should be the same as the number of elements in the tuple."
   ]
  },
  {
   "cell_type": "code",
   "execution_count": null,
   "metadata": {
    "collapsed": true
   },
   "outputs": [],
   "source": [
    "'''Validating the tuple `new_tuple`'''\n",
    "\n",
    "new_tuple"
   ]
  },
  {
   "cell_type": "code",
   "execution_count": null,
   "metadata": {
    "collapsed": true
   },
   "outputs": [],
   "source": [
    "'''Need to define three variables to unpack a tuple'''\n",
    "\n",
    "x, y, z = new_tuple\n",
    "print(x)\n",
    "print(y)\n",
    "print(z)"
   ]
  },
  {
   "cell_type": "code",
   "execution_count": null,
   "metadata": {
    "collapsed": true
   },
   "outputs": [],
   "source": [
    "'''If the number of variables does not equal number of values in the tuple,\n",
    "we will get an error:'''\n",
    "\n",
    "d, e, f, g = new_tuple"
   ]
  },
  {
   "cell_type": "markdown",
   "metadata": {},
   "source": [
    "Quite often, a function returns values as tuples. Technically, a Python function can return only one value, \n",
    "so if we need a function to return several values they can be returned as a tuple.\n",
    "\n",
    "The return expression `return result_1, result_2, result_3` in a function will produce a tuple `(result_1, result_2, result_3)`. "
   ]
  },
  {
   "cell_type": "markdown",
   "metadata": {},
   "source": [
    "### Create tuples with `zip()` function"
   ]
  },
  {
   "cell_type": "markdown",
   "metadata": {},
   "source": [
    "The `zip()` function is an example of a function that returns tuples. This function pairs up the elements from multiple sequences, starting with the first values, then the second, etc. "
   ]
  },
  {
   "cell_type": "code",
   "execution_count": 1,
   "metadata": {
    "collapsed": true
   },
   "outputs": [],
   "source": [
    "list_num = [1,2,3,4,5]\n",
    "list_alpha =['a','b','c','d','e']\n",
    "zipped = zip(list_num, list_alpha)"
   ]
  },
  {
   "cell_type": "markdown",
   "metadata": {},
   "source": [
    "Note that in Python 3 `zip()` function returns a **zip** object which is an iterator:"
   ]
  },
  {
   "cell_type": "code",
   "execution_count": 2,
   "metadata": {},
   "outputs": [
    {
     "data": {
      "text/plain": [
       "zip"
      ]
     },
     "execution_count": 2,
     "metadata": {},
     "output_type": "execute_result"
    }
   ],
   "source": [
    "type(zipped)"
   ]
  },
  {
   "cell_type": "markdown",
   "metadata": {},
   "source": [
    "An **iterator** in Python is a special object type that works as a sequence, and can be looped over using (for example) a `for` statement. An iterator is created when we loop over Python lists, tuples, or dictionaries (will be reviewed in the next section).\n",
    "\n",
    "Let's loop over `zipped`:"
   ]
  },
  {
   "cell_type": "code",
   "execution_count": 3,
   "metadata": {},
   "outputs": [
    {
     "name": "stdout",
     "output_type": "stream",
     "text": [
      "(1, 'a')\n",
      "(2, 'b')\n",
      "(3, 'c')\n",
      "(4, 'd')\n",
      "(5, 'e')\n"
     ]
    }
   ],
   "source": [
    "for i in zipped:\n",
    "    print(i)"
   ]
  },
  {
   "cell_type": "markdown",
   "metadata": {},
   "source": [
    "Let's try to convert the `zipped` object to a list:"
   ]
  },
  {
   "cell_type": "code",
   "execution_count": 4,
   "metadata": {},
   "outputs": [
    {
     "data": {
      "text/plain": [
       "[]"
      ]
     },
     "execution_count": 4,
     "metadata": {},
     "output_type": "execute_result"
    }
   ],
   "source": [
    "zipped_list = list(zipped)\n",
    "zipped_list"
   ]
  },
  {
   "cell_type": "markdown",
   "metadata": {},
   "source": [
    "__NOTE:__ Conversion to a list was unsuccessful in the cell above; `zipped_list` is empty. This is because an iterator can be traversed only once and for this reason it is convenient to convert it to a list first and then operate with the list.   "
   ]
  },
  {
   "cell_type": "code",
   "execution_count": 5,
   "metadata": {},
   "outputs": [
    {
     "data": {
      "text/plain": [
       "[(1, 'a'), (2, 'b'), (3, 'c'), (4, 'd'), (5, 'e')]"
      ]
     },
     "execution_count": 5,
     "metadata": {},
     "output_type": "execute_result"
    }
   ],
   "source": [
    "zip_again = zip(list_num, list_alpha)\n",
    "zipped_list_2 = list(zip_again)\n",
    "zipped_list_2"
   ]
  },
  {
   "cell_type": "markdown",
   "metadata": {},
   "source": [
    "The function `zip()` used with the `*` operator can be used to unzip a list:"
   ]
  },
  {
   "cell_type": "code",
   "execution_count": null,
   "metadata": {
    "collapsed": true
   },
   "outputs": [],
   "source": [
    "list(zip(*zipped_list_2))"
   ]
  },
  {
   "cell_type": "code",
   "execution_count": null,
   "metadata": {
    "collapsed": true
   },
   "outputs": [],
   "source": [
    "first_list = list(list(zip(*zipped_list_2))[0])\n",
    "second_list = list(list(zip(*zipped_list_2))[1])"
   ]
  },
  {
   "cell_type": "code",
   "execution_count": null,
   "metadata": {
    "collapsed": true
   },
   "outputs": [],
   "source": [
    "first_list"
   ]
  },
  {
   "cell_type": "code",
   "execution_count": null,
   "metadata": {
    "collapsed": true
   },
   "outputs": [],
   "source": [
    "second_list"
   ]
  },
  {
   "cell_type": "markdown",
   "metadata": {},
   "source": [
    "## Dictionaries\n",
    "\n",
    "A dictionary is similar to a list where the indices are not limited to only integers. The dictionary is a set of key-value pairs where the key is the index to its associated value. The general form of a dictionary is\n",
    "\n",
    "    {key_1: value_1, key_2: value_2, ...}\n",
    "\n",
    "A dictionary can be created by enclosing a sequence of key:value pairs in curly brackets.\n",
    "\n",
    "Dictionaries are __mutable__; one can build a dictionary by adding items (key-value pairs) to an empty list. The order of items in a dictionary does not matter, they are not indexed with integers. Instead, keys are used to look up values. \n",
    "\n",
    "__NOTE:__ The operator `in` also works on dictionaries, but it scans only keys, not values.  "
   ]
  },
  {
   "cell_type": "code",
   "execution_count": 1,
   "metadata": {},
   "outputs": [
    {
     "name": "stdout",
     "output_type": "stream",
     "text": [
      "{'one': 1, 'two': 2}\n"
     ]
    },
    {
     "data": {
      "text/plain": [
       "[1, 2]"
      ]
     },
     "execution_count": 1,
     "metadata": {},
     "output_type": "execute_result"
    }
   ],
   "source": [
    "my_dictionary = {}\n",
    "my_dictionary[\"one\"] = 1\n",
    "my_dictionary['two'] = 2\n",
    "print(my_dictionary)\n",
    "list(my_dictionary.values())"
   ]
  },
  {
   "cell_type": "code",
   "execution_count": 3,
   "metadata": {},
   "outputs": [
    {
     "name": "stdout",
     "output_type": "stream",
     "text": [
      "one\n",
      "two\n",
      "1\n",
      "2\n"
     ]
    }
   ],
   "source": [
    "'''Traversing over dictionary is very similar to that of a list,\n",
    "just this time keys are used not indices.\n",
    "Compare these two loops: the first one prints keys, not values.'''\n",
    "\n",
    "for value in my_dictionary:\n",
    "    print(value)\n",
    "\n",
    "for key in my_dictionary:\n",
    "    print(my_dictionary[key])\n"
   ]
  },
  {
   "cell_type": "markdown",
   "metadata": {},
   "source": [
    "### Dictionary Comprehension"
   ]
  },
  {
   "cell_type": "markdown",
   "metadata": {},
   "source": [
    "In the previous section, we learned about list comprehensions. A dictionary comprehension works very similar to a list comprehension, but the end result is a dictionary. The structure of a dict comprehension can be described as follows:\n",
    "\n",
    "    {key: value for (key, value) in iterable}\n",
    "\n",
    "Let's see how it works. One of the applications would be to take two lists and create a dictionary using dict comprehension. \n",
    "\n",
    "**NOTE:** You will find in the documentation that the term *dictionary comprehension* is often shortened to the *dict comprehension*. "
   ]
  },
  {
   "cell_type": "code",
   "execution_count": 4,
   "metadata": {},
   "outputs": [
    {
     "data": {
      "text/plain": [
       "{0: 0, 1: 1, 2: 8, 3: 27, 4: 64, 5: 125, 6: 216, 7: 343, 8: 512, 9: 729}"
      ]
     },
     "execution_count": 4,
     "metadata": {},
     "output_type": "execute_result"
    }
   ],
   "source": [
    "'''Create a dictionary where the key is an integer from 0 to 9\n",
    "and the value is the same integer to the power of three.''' \n",
    "\n",
    "{x: x**3 for x in range(10)}"
   ]
  },
  {
   "cell_type": "code",
   "execution_count": 5,
   "metadata": {},
   "outputs": [
    {
     "data": {
      "text/plain": [
       "{'a': 0,\n",
       " 'b': 1,\n",
       " 'c': 8,\n",
       " 'd': 27,\n",
       " 'e': 64,\n",
       " 'f': 125,\n",
       " 'g': 216,\n",
       " 'h': 343,\n",
       " 'i': 512,\n",
       " 'j': 729}"
      ]
     },
     "execution_count": 5,
     "metadata": {},
     "output_type": "execute_result"
    }
   ],
   "source": [
    "'''Creating dictionary where the key is a letter of an alphabet:'''\n",
    "\n",
    "import string\n",
    "{x: y**3 for (x, y) in zip(string.ascii_lowercase, range(10))}"
   ]
  },
  {
   "cell_type": "markdown",
   "metadata": {},
   "source": [
    "Let's break down the line of code above. The expression `zip(string.ascii_lowercase, range(10)` creates a list of tuples where the first element in each pair is a lowercase letter of an English alphabet, and the second element is an integer from 0 to 9:"
   ]
  },
  {
   "cell_type": "code",
   "execution_count": 6,
   "metadata": {},
   "outputs": [
    {
     "data": {
      "text/plain": [
       "[('a', 0),\n",
       " ('b', 1),\n",
       " ('c', 2),\n",
       " ('d', 3),\n",
       " ('e', 4),\n",
       " ('f', 5),\n",
       " ('g', 6),\n",
       " ('h', 7),\n",
       " ('i', 8),\n",
       " ('j', 9)]"
      ]
     },
     "execution_count": 6,
     "metadata": {},
     "output_type": "execute_result"
    }
   ],
   "source": [
    "list(zip(string.ascii_lowercase, range(10)))"
   ]
  },
  {
   "cell_type": "markdown",
   "metadata": {},
   "source": [
    "**NOTE:** For description of the `string` package, please refer to the Python documentation: [Common string operations](https://docs.python.org/3/library/string.html) (Python Software Foundation, 2018)."
   ]
  },
  {
   "cell_type": "markdown",
   "metadata": {},
   "source": [
    "### __EXERCISE 4:__ Word count\n",
    "\n",
    "Imagine that you are given a long sentence and need to count how many times each word appears in the sentence.    \n",
    "\n",
    "1). First, split the sentence into a list of words. We will use a sentence consisting of 251 words from \"Barnaby Rudge\", by Charles Dickens."
   ]
  },
  {
   "cell_type": "code",
   "execution_count": null,
   "metadata": {
    "collapsed": true
   },
   "outputs": [],
   "source": [
    "long_sentence = 'To none of these interrogatories, whereof every one was more pathetically delivered than the last, did Mrs Varden answer one word: but Miggs, not at all abashed by this circumstance, turned to the small boy in attendance—her eldest nephew—son of her own married sister—born in Golden Lion Court, number twenty-sivin, and bred in the very shadow of the second bell-handle on the right- hand door-post—and with a plentiful use of her pocket- handkerchief, addressed herself to him: requesting that on his return home he would console his parents for the loss of her, his aunt, by delivering to them a faithful statement of his having left her in the bosom of that family, with which, as his aforesaid parents well knew, her best affections were incorporated; that he would remind them that nothing less than her imperious sense of duty, and devoted attachment to her old master and missis, likewise Miss Dolly and young Mr Joe, should ever have induced her to decline that pressing invitation which they, his parents, had, as he could testify, given her, to lodge and board with them, free of all cost and charge, for evermore; lastly, that he would help her with her box upstairs, and then repair straight home, bearing her blessing and her strong injunctions to mingle in his prayers a supplication that he might in course of time grow up a locksmith, or a Mr Joe, and have Mrs Vardens and Miss Dollys for his relations and friends.'"
   ]
  },
  {
   "cell_type": "code",
   "execution_count": null,
   "metadata": {
    "collapsed": true
   },
   "outputs": [],
   "source": [
    "# Type your code here\n"
   ]
  },
  {
   "cell_type": "code",
   "execution_count": null,
   "metadata": {
    "collapsed": true
   },
   "outputs": [],
   "source": []
  },
  {
   "cell_type": "markdown",
   "metadata": {},
   "source": [
    "2). Create a dictionary from that list where keys are unique words (e.g. if \"the\" appears in the sentence 3 times, there will only be one key for \"the\") from the list, and the values are its occurrence number."
   ]
  },
  {
   "cell_type": "code",
   "execution_count": null,
   "metadata": {
    "collapsed": true
   },
   "outputs": [],
   "source": [
    "# Type your code here"
   ]
  },
  {
   "cell_type": "code",
   "execution_count": null,
   "metadata": {
    "collapsed": true
   },
   "outputs": [],
   "source": []
  },
  {
   "cell_type": "code",
   "execution_count": null,
   "metadata": {
    "collapsed": true
   },
   "outputs": [],
   "source": []
  },
  {
   "cell_type": "code",
   "execution_count": null,
   "metadata": {
    "collapsed": true
   },
   "outputs": [],
   "source": []
  },
  {
   "cell_type": "code",
   "execution_count": null,
   "metadata": {
    "collapsed": true
   },
   "outputs": [],
   "source": []
  },
  {
   "cell_type": "markdown",
   "metadata": {},
   "source": [
    "## Reading data from a file\n",
    "\n",
    "Often, we need to read data from a file. The file may contain simple text, an Excel spreadsheet, an XML document, or be of any other format. Python offers multiple tools for file reading.\n",
    "\n",
    "The simplest way would be to use the built-in function __`open()`__. This function opens a file and returns a file object; it gives a _file handle_. The file handle is not the actual data contained in the file, but instead it can be used to read the data. Typing `?open` in a command line will return a docstring about this function.\n",
    "\n",
    "### Open and read a text file\n",
    "\n",
    "The general syntax of `open()` function is:\n",
    "\n",
    "    open(name[, mode[, buffering]]) -> file object\n",
    "\n",
    "This shows that the first argument is the path to a file (if the file is in the same directory only the filename can be provided; if not, the path to the file must be provided). The second argument states the mode. Here are the most used modes: \n",
    "\n",
    "* 'r' - to open for reading,\n",
    "* 'w' - to open for writing (old data erased),\n",
    "* 'a' - to open for appending to what is already in the file,\n",
    "* 'r+' - read and write mode\n",
    "\n",
    "A text file is a sequence of lines. The special character called the __newline__ character represents the end of each line. In Python, the *backslash-n* represents a new line. __NOTE:__ `\"\\n\"` is actually one character even though it looks like two.\n",
    "\n",
    "There are four different methods to read from a file: `read(), readlines(), readline()` and `for`-loop over the file_object:\n",
    " * `read()` can be used to read the whole file at once and use it as a single string (not recommended for big files)\n",
    " * `readlines()` returns the content of a file as a list of strings; each line can be accessed by index\n",
    " * `readline()` can be used to read only a part of file; the first call of the method returns the first line, second call - second line and so on. Inside `while` loop can be used to read the file until certain place reached.\n",
    " * `for line in file_object: <...>` allows to process every line in a file one at a time:\n",
    "       \n",
    "       file_object = open('example_file_for_reading.txt', 'r')\n",
    "       for line in file_object:\n",
    "           print(line)\n",
    "        \n",
    "Also, the `file_object` can be converted to a list using `list()` constructor, i.e. `list(file_object)`. This will return a result similar to `readlines()` method.\n",
    "\n",
    "__NOTE:__ When you are done working with the file, it's important to close it.  If you don't and the file was written to it may end up empty, incomplete or corrupted. If method `close()` was used:\n",
    "\n",
    "    file_object.close()\n",
    "    file_obj.read()\n",
    "    % ValueError: I/O operation on closed file"
   ]
  },
  {
   "cell_type": "markdown",
   "metadata": {},
   "source": [
    "### Write to a file"
   ]
  },
  {
   "cell_type": "markdown",
   "metadata": {},
   "source": [
    "The `write()` method in Python works like `print()` function but it does not add newline character `'\\n'`. Again, open the file first:\n",
    "\n",
    "    file_object = open('file_to_write_to.txt', 'w')\n",
    "    file_object.write(('text goes here\\n')\n",
    "    file_object.close()"
   ]
  },
  {
   "cell_type": "code",
   "execution_count": null,
   "metadata": {
    "collapsed": true
   },
   "outputs": [],
   "source": [
    "two_rows_string = \"This is the first line,\\nand this is the second line.\""
   ]
  },
  {
   "cell_type": "code",
   "execution_count": null,
   "metadata": {
    "collapsed": true
   },
   "outputs": [],
   "source": [
    "two_rows_string"
   ]
  },
  {
   "cell_type": "code",
   "execution_count": null,
   "metadata": {
    "collapsed": true
   },
   "outputs": [],
   "source": [
    "print(two_rows_string)"
   ]
  },
  {
   "cell_type": "code",
   "execution_count": null,
   "metadata": {
    "collapsed": true
   },
   "outputs": [],
   "source": [
    "file_object = open('file_to_write_to.txt', 'w')\n",
    "file_object.write(two_rows_string + '\\n')\n",
    "file_object.close()"
   ]
  },
  {
   "cell_type": "code",
   "execution_count": null,
   "metadata": {
    "collapsed": true
   },
   "outputs": [],
   "source": [
    "file_object = open('file_to_write_to.txt', 'a')\n",
    "file_object.write('Oh, one more thing\\n')\n",
    "file_object.close()"
   ]
  },
  {
   "cell_type": "markdown",
   "metadata": {},
   "source": [
    "## Formatting print output"
   ]
  },
  {
   "cell_type": "markdown",
   "metadata": {},
   "source": [
    "In this short section we will quickly review how to format the output of the `print()` function. Here are a few examples:"
   ]
  },
  {
   "cell_type": "code",
   "execution_count": null,
   "metadata": {
    "collapsed": true
   },
   "outputs": [],
   "source": [
    "'''Formatting strings with format specifiers'''\n",
    "\n",
    "'''Pad with spaces if < 10 chars long'''\n",
    "print(\"{0:20} is the best of them all\".format(\"Stella Artois\"))\n",
    "\n",
    "'''Take the width from the second parameter'''\n",
    "print(\"{0:{1}} is the best of them all\".format(\"Stella Artois\", 10))\n",
    "\n",
    "'''Take named arguments'''\n",
    "print(\"{beer:{width}} is the best of them all\".format(beer=\"Stella Artois\", width=10))\n",
    "\n",
    "'''Force right justification'''\n",
    "print(\"{0:>20} is the best of them all\".format(\"Stella Artois\"))\n",
    "\n",
    "'''Force right justification and pad with &'''\n",
    "print(\"{0:&>20} is the best of them all\".format(\"Stella Artois\"))"
   ]
  },
  {
   "cell_type": "code",
   "execution_count": null,
   "metadata": {
    "collapsed": true
   },
   "outputs": [],
   "source": [
    "'''String interpolation'''\n",
    "personA = \"Mary\"\n",
    "personB = \"Jane\"\n",
    "print(\"%s and %s went up the hill\" % (personA, personB))"
   ]
  },
  {
   "cell_type": "markdown",
   "metadata": {},
   "source": [
    "----\n",
    "\n",
    "You have reached the end of this module. \n",
    "\n",
    "---"
   ]
  },
  {
   "cell_type": "markdown",
   "metadata": {
    "collapsed": true
   },
   "source": [
    "## References"
   ]
  },
  {
   "cell_type": "markdown",
   "metadata": {},
   "source": [
    "Python Software Foundation (2018). https://docs.python.org/3/library/string.html"
   ]
  }
 ],
 "metadata": {
  "kernelspec": {
   "display_name": "Python 3",
   "language": "python",
   "name": "python3"
  },
  "language_info": {
   "codemirror_mode": {
    "name": "ipython",
    "version": 3
   },
   "file_extension": ".py",
   "mimetype": "text/x-python",
   "name": "python",
   "nbconvert_exporter": "python",
   "pygments_lexer": "ipython3",
   "version": "3.6.3"
  },
  "toc": {
   "base_numbering": 1,
   "nav_menu": {},
   "number_sections": true,
   "sideBar": true,
   "skip_h1_title": true,
   "title_cell": "Table of Contents",
   "title_sidebar": "Contents",
   "toc_cell": false,
   "toc_position": {},
   "toc_section_display": true,
   "toc_window_display": false
  }
 },
 "nbformat": 4,
 "nbformat_minor": 2
}
